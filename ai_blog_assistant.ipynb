{
  "nbformat": 4,
  "nbformat_minor": 0,
  "metadata": {
    "colab": {
      "provenance": [],
      "authorship_tag": "ABX9TyPEuWiy4jl9C4mh+Abi+SYH",
      "include_colab_link": true
    },
    "kernelspec": {
      "name": "python3",
      "display_name": "Python 3"
    },
    "language_info": {
      "name": "python"
    }
  },
  "cells": [
    {
      "cell_type": "markdown",
      "metadata": {
        "id": "view-in-github",
        "colab_type": "text"
      },
      "source": [
        "<a href=\"https://colab.research.google.com/github/kunalpanda03/AI_Blog_Assistant/blob/main/ai_blog_assistant.ipynb\" target=\"_parent\"><img src=\"https://colab.research.google.com/assets/colab-badge.svg\" alt=\"Open In Colab\"/></a>"
      ]
    },
    {
      "cell_type": "code",
      "execution_count": null,
      "metadata": {
        "id": "TNEEad2WvbLP"
      },
      "outputs": [],
      "source": [
        "!pip install -q google-generativeai\n"
      ]
    },
    {
      "cell_type": "code",
      "source": [
        "import google.generativeai as genai\n",
        "\n",
        "# Replace YOUR_API_KEY with the one from Google AI Studio\n",
        "genai.configure(api_key=\"Your_API_Key\")\n"
      ],
      "metadata": {
        "id": "Ke1kBDLpv6Xy"
      },
      "execution_count": null,
      "outputs": []
    },
    {
      "cell_type": "code",
      "source": [
        "def generate_blog(keyword, word_limit):\n",
        "    model = genai.GenerativeModel(\"gemini-1.5-flash\")\n",
        "\n",
        "    prompt = f\"\"\"\n",
        "    Write a blog post about \"{keyword}\".\n",
        "    Make it {word_limit} words long.\n",
        "    The tone should be informative and engaging.\n",
        "    \"\"\"\n",
        "\n",
        "    response = model.generate_content(prompt)\n",
        "    return response.text\n"
      ],
      "metadata": {
        "id": "-os7kPE7wKP0"
      },
      "execution_count": null,
      "outputs": []
    },
    {
      "cell_type": "code",
      "source": [
        "# Example usage:\n",
        "blog = generate_blog(\"Porsche 911 vs Mclaren P1\", 3000)\n",
        "print(blog)\n"
      ],
      "metadata": {
        "colab": {
          "base_uri": "https://localhost:8080/",
          "height": 939
        },
        "id": "76SC1HKDwOil",
        "outputId": "94f7d4e4-22f4-42bb-d3f2-5b04058c1b98"
      },
      "execution_count": 7,
      "outputs": [
        {
          "output_type": "stream",
          "name": "stdout",
          "text": [
            "## Porsche 911 vs. McLaren P1: A Tale of Two Titans\n",
            "\n",
            "The automotive world is a playground of extremes, a place where dreams are forged in carbon fiber and horsepower.  And within this playground, few battles ignite the imagination quite like the one between the Porsche 911 and the McLaren P1.  These two cars represent diametrically opposed philosophies, yet both occupy the apex of automotive performance. This deep dive will dissect their differences, exploring their strengths and weaknesses to help you understand why choosing between these two titans is less about finding a \"better\" car and more about defining your ideal driving experience.\n",
            "\n",
            "\n",
            "**The Porsche 911: The Enduring Legend**\n",
            "\n",
            "The Porsche 911 needs little introduction.  A legend spanning over six decades, it’s a symbol of automotive excellence, constantly evolving yet retaining its core identity.  More than just a sports car, it's a cultural icon, a testament to Porsche's unwavering commitment to rear-engine engineering and a refined driving experience.  While numerous iterations exist, for the purpose of this comparison, we'll focus on the flagship 911 Turbo S, a car representing the pinnacle of the 911's performance capabilities.\n",
            "\n",
            "**Power and Performance:** The 911 Turbo S boasts a twin-turbocharged 3.8-liter flat-six engine, generating a staggering 640 horsepower and 590 lb-ft of torque. This power translates to exhilarating acceleration, reaching 60 mph in under 2.5 seconds.  Its top speed is electronically limited to around 205 mph, a figure that's more than enough for most mortals.  However, what truly sets the 911 apart is its incredible balance. The rear-engine layout, refined over decades, provides a unique driving experience, characterized by a playful rear-end and a nimble feel, even at high speeds.\n",
            "\n",
            "**Handling and Dynamics:** The 911 Turbo S is a masterclass in handling.  Its all-wheel-drive system provides exceptional traction and stability, allowing you to exploit the car's immense power with confidence.  Porsche's advanced active suspension systems, including Porsche Active Suspension Management (PASM) and Porsche Dynamic Chassis Control (PDCC), further enhance its dynamic capabilities, ensuring a composed and controlled ride even on challenging roads. The steering is precise and communicative, providing the driver with a deep connection to the road.  It’s a car that rewards skilled driving, offering a level of feedback and control that few others can match.\n",
            "\n",
            "**Practicality and Everyday Use:** This is where the 911 shines.  Unlike many hypercars, the 911 is surprisingly practical.  It offers two comfortable seats, decent cargo space (relatively speaking, of course), and a relatively usable interior.  It can be used as a daily driver, albeit a very expensive and thrilling one.  The comfortable ride, despite its performance capabilities, makes it suitable for longer journeys, something that few hypercars can boast.\n",
            "\n",
            "\n",
            "**The McLaren P1: The Hypercar Pinnacle**\n",
            "\n",
            "The McLaren P1 represents a different breed entirely.  This hypercar is a statement of engineering prowess, a culmination of McLaren's Formula 1 expertise translated into a road-legal machine.  It’s a car designed for pure, unadulterated speed and performance, pushing the boundaries of what's possible.\n",
            "\n",
            "**Power and Performance:**  The P1's hybrid powertrain combines a 3.8-liter twin-turbocharged V8 engine with an electric motor, delivering a combined output of 903 horsepower and 664 lb-ft of torque.  This translates to mind-bending acceleration – 0-60 mph in under 2.8 seconds and a top speed exceeding 217 mph.  The electric motor provides instantaneous torque, resulting in explosive acceleration and a seamless driving experience.  However, the P1's performance is not just about straight-line speed; it's about the holistic experience of extreme performance.\n",
            "\n",
            "**Handling and Dynamics:**  The P1's handling is as breathtaking as its acceleration.  Built around a lightweight carbon fiber chassis, it boasts exceptional agility and responsiveness.  Its aerodynamic design, including the active rear wing and DRS (Drag Reduction System), provides incredible downforce, allowing it to corner at astonishing speeds with exceptional stability.  The steering is incredibly precise and direct, giving the driver an intimate connection to the car's dynamics. It's a car that demands respect, rewarding skillful driving with an unparalleled sense of control and precision.\n",
            "\n",
            "**Practicality and Everyday Use:**  This is where the P1's hypercar nature becomes apparent.  It's not designed for everyday use.  The ride is incredibly stiff, the interior is spartan, and the visibility is limited.  The practicality is almost non-existent; it's a track-focused machine that's only occasionally suitable for road use. The limited storage space and the aggressive driving position make long journeys an arduous task.\n",
            "\n",
            "\n",
            "**A Detailed Comparison:**\n",
            "\n",
            "| Feature          | Porsche 911 Turbo S            | McLaren P1                     |\n",
            "|-----------------|---------------------------------|---------------------------------|\n",
            "| Engine           | 3.8L Twin-Turbo Flat-Six        | 3.8L Twin-Turbo V8 + Electric Motor |\n",
            "| Horsepower       | 640 hp                          | 903 hp                          |\n",
            "| Torque           | 590 lb-ft                        | 664 lb-ft                        |\n",
            "| 0-60 mph         | < 2.5 seconds                   | < 2.8 seconds                   |\n",
            "| Top Speed        | ~205 mph (limited)               | > 217 mph                        |\n",
            "| Drive Type       | All-Wheel Drive                  | Rear-Wheel Drive                 |\n",
            "| Transmission     | 8-speed PDK Automatic            | 7-speed Seamless Shift Gearbox     |\n",
            "| Body Style       | Coupe                             | Coupe                             |\n",
            "| Price            | ~$200,000                        | ~$1,500,000 (when new)          |\n",
            "| Daily Drivability| High                             | Low                              |\n",
            "| Handling         | Balanced, Neutral                 | Extremely Agile, Track Focused    |\n",
            "\n",
            "\n",
            "**Conclusion: Choosing Your Weapon**\n",
            "\n",
            "The choice between a Porsche 911 Turbo S and a McLaren P1 isn't about which is \"better\"; it's about choosing the car that best aligns with your driving preferences and lifestyle.  The 911 is a refined, capable, and surprisingly practical supercar that's enjoyable to drive every day.  It's a testament to Porsche's mastery of balanced performance and everyday usability.\n",
            "\n",
            "The McLaren P1, on the other hand, is a different beast altogether.  It's a hypercar that represents the pinnacle of automotive engineering, a machine designed for track-focused performance and adrenaline-fueled thrills.  It’s an investment in a truly exceptional driving experience, albeit one that's significantly less practical for daily use.\n",
            "\n",
            "Ultimately, the decision depends on your priorities.  Do you want a highly capable and surprisingly usable supercar that can handle everyday driving with ease?  Choose the 911.  Do you crave an unparalleled level of performance and track-focused thrills, even if it means sacrificing some practicality?  The P1 is your weapon of choice.  Both are automotive masterpieces, but they cater to vastly different needs and desires.  The true winner is the driver who chooses the car that best reflects their passion and driving style.\n",
            "\n"
          ]
        }
      ]
    }
  ]
}