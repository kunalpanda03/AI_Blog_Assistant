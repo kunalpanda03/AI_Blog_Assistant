{
  "nbformat": 4,
  "nbformat_minor": 0,
  "metadata": {
    "colab": {
      "provenance": [],
      "authorship_tag": "ABX9TyPPCQCCHirGlGDdfpHvqMuf",
      "include_colab_link": true
    },
    "kernelspec": {
      "name": "python3",
      "display_name": "Python 3"
    },
    "language_info": {
      "name": "python"
    }
  },
  "cells": [
    {
      "cell_type": "markdown",
      "metadata": {
        "id": "view-in-github",
        "colab_type": "text"
      },
      "source": [
        "<a href=\"https://colab.research.google.com/github/kunalpanda03/AI_Blog_Assistant/blob/main/ai_blog_assistant.ipynb\" target=\"_parent\"><img src=\"https://colab.research.google.com/assets/colab-badge.svg\" alt=\"Open In Colab\"/></a>"
      ]
    },
    {
      "cell_type": "code",
      "execution_count": null,
      "metadata": {
        "id": "TNEEad2WvbLP"
      },
      "outputs": [],
      "source": [
        "!pip install -q google-generativeai\n"
      ]
    },
    {
      "cell_type": "code",
      "source": [
        "import google.generativeai as genai\n",
        "\n",
        "# Replace YOUR_API_KEY with the one from Google AI Studio\n",
        "genai.configure(api_key=\"Your_API_Key\")\n"
      ],
      "metadata": {
        "id": "Ke1kBDLpv6Xy"
      },
      "execution_count": null,
      "outputs": []
    },
    {
      "cell_type": "code",
      "source": [
        "def generate_blog(keyword, word_limit):\n",
        "    model = genai.GenerativeModel(\"gemini-2.0-flash\")\n",
        "\n",
        "    prompt = f\"\"\"\n",
        "    Write a blog post about \"{keyword}\".\n",
        "    Make it {word_limit} words long.\n",
        "    The tone should be informative and engaging.\n",
        "    \"\"\"\n",
        "\n",
        "    response = model.generate_content(prompt)\n",
        "    return response.text\n"
      ],
      "metadata": {
        "id": "-os7kPE7wKP0"
      },
      "execution_count": 8,
      "outputs": []
    },
    {
      "cell_type": "code",
      "source": [
        "# Example usage:\n",
        "blog = generate_blog(\"Porsche 911 vs Mclaren P1\", 3000)\n",
        "print(blog)\n"
      ],
      "metadata": {
        "colab": {
          "base_uri": "https://localhost:8080/",
          "height": 1000
        },
        "id": "76SC1HKDwOil",
        "outputId": "0c7ca7ae-e799-4cdf-c823-c3611f56e1fe"
      },
      "execution_count": 9,
      "outputs": [
        {
          "output_type": "stream",
          "name": "stdout",
          "text": [
            "## Titans Clash: Porsche 911 vs. McLaren P1 - Two Legends, Worlds Apart?\n",
            "\n",
            "For decades, the automotive world has been captivated by the battle of titans. We’re not talking about Godzilla vs. King Kong (although that’s pretty cool too), but rather the ongoing rivalry between iconic manufacturers pushing the boundaries of performance, engineering, and design. Today, we're diving deep into a head-to-head comparison that might seem, at first glance, like a mismatch: the Porsche 911 and the McLaren P1.\n",
            "\n",
            "Now, hold on! Before you scream heresy and dismiss this as comparing apples to oranges, let’s clarify something. We're not comparing specific *models* directly, generation to generation. Instead, we're exploring the philosophies, the engineering prowess, and the sheer driving experience that each brand represents, using two of their most significant and influential creations as focal points. The 911, an evolution spanning decades of near-perfection, and the P1, a hypercar that redefined the possibilities of hybrid technology.\n",
            "\n",
            "Why this comparison? Because they represent two vastly different approaches to achieving the ultimate driving experience. The 911 is a symbol of accessible, everyday usability blended with world-class performance. It’s a sports car you can drive to work, take to the track on the weekend, and still feel comfortable in. The McLaren P1, on the other hand, is a singular, track-focused machine designed to push the limits of speed and technology, sacrificing daily practicality for sheer, unadulterated performance.\n",
            "\n",
            "Ultimately, this is an exploration of what \"performance\" truly means and how two legendary brands have pursued it with distinct visions.\n",
            "\n",
            "**The Evergreen Icon: The Porsche 911**\n",
            "\n",
            "The Porsche 911. The name itself evokes images of sweeping curves, the distinctive silhouette of the “whale tail” spoiler (depending on the generation), and the unmistakable flat-six engine note. More than just a car, the 911 is a cultural phenomenon. Its enduring success lies in its relentless evolution and its unwavering commitment to its core principles: rear-engine, all-wheel drive (in many models), and a driver-focused experience.\n",
            "\n",
            "**A Legacy of Evolution:** The 911's history is a testament to iterative improvement. From the original 901 (later renamed 911) in 1964, designed by Ferdinand \"Butzi\" Porsche, the car has undergone countless refinements, each generation building upon the strengths of its predecessor while addressing its weaknesses. The key is that Porsche has avoided drastic overhauls, preferring instead to subtly enhance the car's performance, handling, and technology, ensuring that it remains relevant and competitive in a constantly evolving automotive landscape.\n",
            "\n",
            "**The Flat-Six Heart:** The soul of the 911 lies in its rear-mounted, horizontally opposed six-cylinder engine – the iconic flat-six. This engine configuration provides a unique balance and sound signature that is instantly recognizable. Over the years, the flat-six has evolved from air-cooled to water-cooled, and its power output has steadily increased, thanks to advancements in technology such as turbocharging, direct injection, and variable valve timing.\n",
            "\n",
            "**The Driver's Car:** The 911 is renowned for its engaging driving experience. Its rear-engine layout gives it a distinctive handling characteristic, requiring a skilled driver to master its quirks. However, once mastered, the 911 rewards with exceptional agility, responsiveness, and a feeling of being truly connected to the road. Porsche's meticulous attention to detail in the chassis tuning, steering feel, and braking performance further enhances the driving experience.\n",
            "\n",
            "**Modern Day Mastery:** Consider the current 992 generation, particularly the 911 Turbo S. This is a machine that blends raw power with sophisticated technology. Its twin-turbocharged flat-six produces over 640 horsepower, launching the car from 0 to 60 mph in a mind-bending 2.6 seconds. Yet, it's not just about straight-line speed. The 911 Turbo S also boasts exceptional handling, thanks to its all-wheel drive system, adaptive suspension, and rear-axle steering. It's a car that can be driven comfortably on the road, yet unleash its full potential on the track.\n",
            "\n",
            "**Key 911 Attributes:**\n",
            "\n",
            "*   **Evolutionary Design:** A timeless design that has evolved gradually over decades.\n",
            "*   **Flat-Six Engine:** A unique and characterful engine configuration with a distinctive sound.\n",
            "*   **Driver-Focused Handling:** Engaging and rewarding driving experience.\n",
            "*   **Everyday Usability:** Relatively practical and comfortable for daily driving.\n",
            "*   **Wide Range of Models:** Available in a variety of configurations to suit different needs and preferences.\n",
            "\n",
            "**The Hybrid Hypercar Revolution: The McLaren P1**\n",
            "\n",
            "The McLaren P1. A name that resonates with innovation, performance, and cutting-edge technology. This hypercar, launched in 2013, was designed to be the best driver's car in the world, pushing the boundaries of what was possible with hybrid technology and aerodynamic design. It wasn't just about speed; it was about creating a visceral and engaging driving experience that would leave a lasting impression.\n",
            "\n",
            "**Inspired by Formula 1:** McLaren's deep roots in Formula 1 are evident in the P1's design and engineering. The car's carbon fiber monocoque chassis, advanced aerodynamics, and hybrid powertrain were all developed using technology and expertise gained from years of racing. This focus on performance and innovation is what sets the P1 apart from other hypercars.\n",
            "\n",
            "**The Power of Hybridization:** The P1's powertrain consists of a twin-turbocharged 3.8-liter V8 engine, paired with an electric motor. Together, they produce a staggering 903 horsepower and 664 lb-ft of torque. The electric motor provides instant torque, filling in the gaps in the V8's power curve and delivering explosive acceleration. The hybrid system also allows the P1 to be driven in electric-only mode for short distances, making it surprisingly efficient around town.\n",
            "\n",
            "**Aerodynamic Masterpiece:** The P1's aerodynamic design is a work of art. Every curve, vent, and wing is carefully sculpted to optimize airflow and generate downforce. The car features an active rear wing that automatically adjusts its angle to provide the optimal level of downforce for different driving conditions. This allows the P1 to corner at incredible speeds, feeling glued to the road even at triple-digit speeds.\n",
            "\n",
            "**Track-Focused Performance:** The P1 is designed for the track. Its stiff suspension, powerful brakes, and responsive steering provide exceptional control and feedback. The car's advanced electronic systems, such as the launch control and traction control, help to maximize performance and ensure that the driver can extract every last ounce of speed from the car.\n",
            "\n",
            "**A Limited Edition Legend:** With only 375 units ever produced, the McLaren P1 is a highly exclusive and sought-after hypercar. Its groundbreaking technology, stunning design, and exceptional performance have cemented its place as a legend in automotive history.\n",
            "\n",
            "**Key P1 Attributes:**\n",
            "\n",
            "*   **Hybrid Powertrain:** A cutting-edge hybrid system that combines a twin-turbo V8 with an electric motor.\n",
            "*   **Advanced Aerodynamics:** An aerodynamic design that generates significant downforce for improved handling.\n",
            "*   **Carbon Fiber Construction:** A lightweight and strong carbon fiber monocoque chassis.\n",
            "*   **Track-Focused Performance:** Designed for ultimate performance on the track.\n",
            "*   **Limited Production:** A highly exclusive and collectible hypercar.\n",
            "\n",
            "**Head-to-Head: Delving Deeper**\n",
            "\n",
            "Now that we've established the core characteristics of each car, let's delve deeper into specific aspects:\n",
            "\n",
            "**1. Performance:**\n",
            "\n",
            "*   **Porsche 911 (Turbo S):** The 911 Turbo S delivers blistering acceleration and impressive top speed. While not a hypercar, it boasts performance figures that rival many exotic machines. Its all-wheel drive system provides exceptional traction, making it easy to extract its full potential. The power delivery is smooth and predictable, making it a car that can be driven quickly and confidently by drivers of all skill levels.\n",
            "*   **McLaren P1:** The P1 is a different beast altogether. Its hybrid powertrain provides instant torque and relentless acceleration. The car feels incredibly explosive, launching from 0 to 60 mph in just 2.8 seconds. Its top speed is electronically limited to 217 mph, but it feels like it could go even faster. The P1's performance is simply mind-blowing, pushing the boundaries of what is possible with a road-legal car.\n",
            "\n",
            "**Winner:** McLaren P1. In terms of sheer, unadulterated performance, the P1 reigns supreme. Its hybrid powertrain and advanced aerodynamics give it a significant edge.\n",
            "\n",
            "**2. Handling:**\n",
            "\n",
            "*   **Porsche 911 (Turbo S):** The 911 Turbo S offers exceptional handling, thanks to its all-wheel drive system, adaptive suspension, and rear-axle steering. The car feels planted and stable, even at high speeds. Its steering is precise and responsive, providing excellent feedback. The 911 is a car that inspires confidence, allowing the driver to push its limits without feeling intimidated.\n",
            "*   **McLaren P1:** The P1's handling is razor-sharp. Its stiff suspension, advanced aerodynamics, and responsive steering provide unparalleled control and feedback. The car feels incredibly agile, changing direction with lightning speed. The P1's handling is more demanding than the 911's, requiring a skilled driver to fully exploit its potential. However, when driven correctly, it offers a truly exhilarating and rewarding experience.\n",
            "\n",
            "**Winner:** McLaren P1. The P1's track-focused design and advanced aerodynamics give it a significant edge in handling. It's a car that demands respect and rewards skill.\n",
            "\n",
            "**3. Technology:**\n",
            "\n",
            "*   **Porsche 911 (Turbo S):** The 911 Turbo S is packed with advanced technology, including its all-wheel drive system, adaptive suspension, rear-axle steering, and electronic stability control. These systems work seamlessly together to enhance the car's performance and handling. The 911 also features a modern infotainment system with a large touchscreen display and a variety of connectivity options.\n",
            "*   **McLaren P1:** The P1 is a showcase of cutting-edge technology. Its hybrid powertrain, active aerodynamics, and carbon fiber construction were groundbreaking when it was launched. The car also features a sophisticated electronic control system that manages the hybrid system, aerodynamics, and suspension. The P1's technology is more focused on performance than comfort or convenience.\n",
            "\n",
            "**Winner:** McLaren P1. The P1's hybrid powertrain and active aerodynamics represent a higher level of technological innovation.\n",
            "\n",
            "**4. Design:**\n",
            "\n",
            "*   **Porsche 911 (Turbo S):** The 911 Turbo S boasts a timeless design that has evolved gradually over decades. Its iconic silhouette is instantly recognizable. The car's design is both functional and beautiful, with every detail serving a purpose.\n",
            "*   **McLaren P1:** The P1's design is striking and futuristic. Its aerodynamic shape and aggressive lines make it look like it belongs on a racetrack. The car's design is both beautiful and functional, with every curve and vent optimized for performance.\n",
            "\n",
            "**Winner:** Subjective. Both cars are stunningly designed, but in very different ways. The 911 represents timeless elegance, while the P1 embodies futuristic aggression. This comes down to personal preference.\n",
            "\n",
            "**5. Practicality:**\n",
            "\n",
            "*   **Porsche 911 (Turbo S):** The 911 Turbo S is surprisingly practical for a high-performance sports car. It has a comfortable interior, decent cargo space, and is relatively easy to drive in everyday conditions.\n",
            "*   **McLaren P1:** The P1 is not designed for practicality. Its interior is cramped, its ride is stiff, and it is difficult to get in and out of. The P1 is a track-focused machine that sacrifices comfort and convenience for performance.\n",
            "\n",
            "**Winner:** Porsche 911 (Turbo S). The 911 is a far more practical car for daily driving.\n",
            "\n",
            "**6. Price and Exclusivity:**\n",
            "\n",
            "*   **Porsche 911 (Turbo S):** The 911 Turbo S is an expensive car, but it is relatively accessible compared to the McLaren P1.\n",
            "*   **McLaren P1:** The P1 is one of the most expensive and exclusive cars in the world. Its limited production run and groundbreaking technology make it a highly sought-after collectible.\n",
            "\n",
            "**Winner:** N/A - This is a measure of cost and availability, not performance.\n",
            "\n",
            "**The Verdict: Two Different Paths to Automotive Nirvana**\n",
            "\n",
            "So, who wins this comparison? The answer is... it depends. It depends on what you're looking for in a car.\n",
            "\n",
            "If you want a car that offers a blend of performance, practicality, and everyday usability, the Porsche 911 (especially in Turbo S guise) is the clear winner. It's a car that can be driven to work, taken to the track on the weekend, and still feel comfortable and refined.\n",
            "\n",
            "However, if you're looking for the ultimate in performance, cutting-edge technology, and exclusivity, the McLaren P1 is the undisputed champion. It's a car that pushes the boundaries of what is possible, delivering a visceral and unforgettable driving experience. But, be prepared to sacrifice practicality and comfort for the privilege.\n",
            "\n",
            "Ultimately, the Porsche 911 and the McLaren P1 represent two different philosophies of automotive design. The 911 is an evolution of a classic, refined over decades to be the ultimate all-around sports car. The P1 is a revolutionary hypercar, pushing the limits of technology and performance.\n",
            "\n",
            "They are titans, yes, but titans who excel in different arenas. To compare them directly is to miss the point. Both cars are exceptional in their own right, and they both offer a unique and rewarding driving experience. The choice between them comes down to personal preference and what you value most in a car.\n",
            "\n",
            "One thing is certain: both the Porsche 911 and the McLaren P1 will continue to inspire and captivate car enthusiasts for generations to come. They are testaments to the passion, innovation, and engineering prowess of their respective manufacturers, and they represent the pinnacle of automotive achievement.\n",
            "\n"
          ]
        }
      ]
    }
  ]
}